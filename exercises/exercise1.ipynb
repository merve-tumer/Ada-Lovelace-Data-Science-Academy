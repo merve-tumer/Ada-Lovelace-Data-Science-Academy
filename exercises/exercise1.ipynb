{
 "cells": [
  {
   "cell_type": "markdown",
   "metadata": {},
   "source": [
    "## Week 1"
   ]
  },
  {
   "cell_type": "markdown",
   "metadata": {},
   "source": [
    "### Exercise 1"
   ]
  },
  {
   "cell_type": "markdown",
   "metadata": {},
   "source": [
    "### Write a function that receives a list as parameter and return how many elements it has; if it doesn't have any element return an error."
   ]
  },
  {
   "cell_type": "markdown",
   "metadata": {},
   "source": [
    "#### Solution 1"
   ]
  },
  {
   "cell_type": "code",
   "execution_count": 2,
   "metadata": {},
   "outputs": [],
   "source": [
    "def list_size(my_list):\n",
    "    size = len(my_list)\n",
    "    if(size > 0):\n",
    "        return f\"List have {size} elements.\"\n",
    "    return \"Error! No elements\""
   ]
  },
  {
   "cell_type": "code",
   "execution_count": 3,
   "metadata": {},
   "outputs": [
    {
     "data": {
      "text/plain": [
       "'List have 6 elements.'"
      ]
     },
     "execution_count": 3,
     "metadata": {},
     "output_type": "execute_result"
    }
   ],
   "source": [
    "merves_list = [1, 2, 3, \"a\", \"b\", \"c\"]\n",
    "list_size(merves_list)"
   ]
  },
  {
   "cell_type": "code",
   "execution_count": 4,
   "metadata": {},
   "outputs": [
    {
     "data": {
      "text/plain": [
       "'Error! No elements'"
      ]
     },
     "execution_count": 4,
     "metadata": {},
     "output_type": "execute_result"
    }
   ],
   "source": [
    "empty_list = []\n",
    "list_size(empty_list)"
   ]
  },
  {
   "cell_type": "markdown",
   "metadata": {},
   "source": [
    "### Exercise 2"
   ]
  },
  {
   "cell_type": "markdown",
   "metadata": {},
   "source": [
    "#### Write a function that receives a string as parameter and return the number of each character in it."
   ]
  },
  {
   "cell_type": "code",
   "execution_count": 6,
   "metadata": {},
   "outputs": [
    {
     "data": {
      "text/plain": [
       "{'A': 2}"
      ]
     },
     "execution_count": 6,
     "metadata": {},
     "output_type": "execute_result"
    }
   ],
   "source": [
    "# çözüm 1\n",
    "def count_character(str1):\n",
    "    result = {}\n",
    "    for character in str1:\n",
    "        if character not in result:\n",
    "            counter = str1.count(character)\n",
    "            result.update({character:counter})\n",
    "        return result\n",
    "count_character('Ada Lovelace Academy')"
   ]
  },
  {
   "cell_type": "code",
   "execution_count": 8,
   "metadata": {},
   "outputs": [],
   "source": [
    " # Çözüm 2\n",
    "import collections\n",
    "def count_character(input_string):\n",
    "    \"\"\"\n",
    "    Function to count the characters in the given string\n",
    "    :param input_string: String for which we need to count the characters.\n",
    "    :return: Dictionary with the character counts\n",
    "    \"\"\"\n",
    "    char_counts = collections.Counter(input_string)\n",
    "\n",
    "    return(char_counts)\n"
   ]
  },
  {
   "cell_type": "code",
   "execution_count": 9,
   "metadata": {},
   "outputs": [
    {
     "data": {
      "text/plain": [
       "Counter({'e': 3,\n",
       "         ' ': 3,\n",
       "         'l': 2,\n",
       "         'H': 1,\n",
       "         'o': 1,\n",
       "         'I': 1,\n",
       "         'a': 1,\n",
       "         'm': 1,\n",
       "         'M': 1,\n",
       "         'r': 1,\n",
       "         'v': 1})"
      ]
     },
     "execution_count": 9,
     "metadata": {},
     "output_type": "execute_result"
    }
   ],
   "source": [
    "input = \"Hello I am Merve\"\n",
    "count_character(input)"
   ]
  },
  {
   "cell_type": "code",
   "execution_count": 14,
   "metadata": {},
   "outputs": [
    {
     "name": "stdout",
     "output_type": "stream",
     "text": [
      "{'H': 1, 'e': 3, 'l': 2, 'o': 1, '!': 1, ' ': 4, 'I': 1, 'a': 1, 'm': 1, 'M': 1, 'r': 1, 'v': 1}\n"
     ]
    }
   ],
   "source": [
    "# Çözüm 3\n",
    "def count_characters(input_string):\n",
    "\n",
    "    sum = {}\n",
    "    for char in input_string:\n",
    "        if char in sum:\n",
    "            sum[char] += 1\n",
    "        else:\n",
    "           sum[char] = 1\n",
    "    return sum\n",
    "\n",
    "\n",
    "print(count_characters(\"Hello! I am Merve \"))\n",
    "\n"
   ]
  },
  {
   "cell_type": "code",
   "execution_count": 15,
   "metadata": {},
   "outputs": [],
   "source": [
    "# Ana çözüm\n",
    "from collections import Counter\n",
    "\n",
    "def string_char(my_string):\n",
    "    result = Counter(my_string).most_common(len(my_string))\n",
    "    return result\n",
    "\n",
    "# most common ile birlikte en sık kullanılanlar üstte sıralanır"
   ]
  },
  {
   "cell_type": "code",
   "execution_count": 16,
   "metadata": {},
   "outputs": [
    {
     "data": {
      "text/plain": [
       "[('i', 3),\n",
       " ('s', 3),\n",
       " (' ', 3),\n",
       " ('t', 2),\n",
       " ('h', 1),\n",
       " ('a', 1),\n",
       " ('r', 1),\n",
       " ('n', 1),\n",
       " ('g', 1)]"
      ]
     },
     "execution_count": 16,
     "metadata": {},
     "output_type": "execute_result"
    }
   ],
   "source": [
    "merves_string = \"this is a string\"\n",
    "string_char(merves_string)"
   ]
  },
  {
   "cell_type": "code",
   "execution_count": null,
   "metadata": {},
   "outputs": [],
   "source": []
  }
 ],
 "metadata": {
  "kernelspec": {
   "display_name": "lovelace",
   "language": "python",
   "name": "python3"
  },
  "language_info": {
   "codemirror_mode": {
    "name": "ipython",
    "version": 3
   },
   "file_extension": ".py",
   "mimetype": "text/x-python",
   "name": "python",
   "nbconvert_exporter": "python",
   "pygments_lexer": "ipython3",
   "version": "3.11.5"
  }
 },
 "nbformat": 4,
 "nbformat_minor": 2
}
